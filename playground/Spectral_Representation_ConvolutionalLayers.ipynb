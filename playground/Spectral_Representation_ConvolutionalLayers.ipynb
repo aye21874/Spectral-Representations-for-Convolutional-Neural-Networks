{
 "cells": [
  {
   "cell_type": "code",
   "execution_count": 1,
   "id": "474498f7",
   "metadata": {},
   "outputs": [],
   "source": [
    "import numpy as np \n",
    "import pandas as pd \n"
   ]
  },
  {
   "cell_type": "code",
   "execution_count": 2,
   "id": "c2d904c4",
   "metadata": {},
   "outputs": [],
   "source": [
    "import tensorflow as tf\n",
    "from tensorflow import keras\n"
   ]
  },
  {
   "cell_type": "code",
   "execution_count": 3,
   "id": "13e20e7b",
   "metadata": {},
   "outputs": [
    {
     "name": "stdout",
     "output_type": "stream",
     "text": [
      "[PhysicalDevice(name='/physical_device:GPU:0', device_type='GPU')]\n"
     ]
    }
   ],
   "source": [
    "import tensorflow as tf\n",
    "physical_devices = tf.config.list_physical_devices('GPU')\n",
    "tf.config.experimental.set_memory_growth(physical_devices[0], True)\n",
    "print(physical_devices)"
   ]
  },
  {
   "cell_type": "markdown",
   "id": "56f52d26",
   "metadata": {},
   "source": [
    "From https://www.tensorflow.org/api_docs/python/tf/nn/conv2d\n",
    "\n",
    "Given an input tensor of shape batch_shape + [in_height, in_width, in_channels] and a filter / kernel tensor of shape [filter_height, filter_width, in_channels, out_channels], this op performs the following:\n",
    "\n",
    "Flattens the filter to a 2-D matrix with shape [filter_height * filter_width * in_channels, output_channels].\n",
    "\n",
    "Extracts image patches from the input tensor to form a virtual tensor of shape [batch, out_height, out_width, filter_height * filter_width * in_channels].\n",
    "\n",
    "For each patch, right-multiplies the filter matrix and the image patch vector."
   ]
  },
  {
   "cell_type": "code",
   "execution_count": 13,
   "id": "0deb6049",
   "metadata": {},
   "outputs": [],
   "source": [
    "class spectralConv2D(keras.layers.Layer):\n",
    "    \n",
    "    def __init__(self, filters = 32,kernel_size=(3,3),strides=(1, 1), padding='valid',activation=tf.nn.relu):\n",
    "        \n",
    "        # Initialization\n",
    "        super(spectralConv2D, self).__init__()\n",
    "        assert len(kernel_size) > 1 , \"Please input the Kernel Size as a 2D tuple\"\n",
    "        self.strides = strides \n",
    "        self.padding = padding\n",
    "        self.filters = filters\n",
    "        self.kernel_size = kernel_size\n",
    "        self.activation = activation\n",
    "        \n",
    "    def build(self, input_shape):\n",
    "        # Initialize Filters \n",
    "        \n",
    "        # Assuming Input_shape is channels_last \n",
    "        kernel_shape = [self.kernel_size[0],self.kernel_size[1],input_shape[3],self.filters]\n",
    "        \n",
    "        self.kernel_real = self.add_weight( shape=kernel_shape,\n",
    "                                            initializer=\"glorot_uniform\",\n",
    "                                            trainable=True)\n",
    "        self.kernel_imag = self.add_weight( shape=kernel_shape,\n",
    "                                            initializer=\"glorot_uniform\",\n",
    "                                            trainable=True)\n",
    "        \n",
    "        self.bias = self.add_weight(shape=(self.filters,), initializer=\"zeros\", trainable=True)\n",
    "\n",
    "    def call(self, inputs):\n",
    "        \n",
    "        kernel = tf.complex(self.kernel_real,kernel_imag)\n",
    "        spatial_kernel = tf.signal.ifft2d(kernel)\n",
    "        \n",
    "        print(spatial_kernel.shape)\n",
    "        \n",
    "        convolution_output = tf.nn.convolution(\n",
    "                            inputs,\n",
    "                            spatial_kernel,\n",
    "                            strides=list(self.strides),\n",
    "                            padding=self.padding\n",
    "                        )\n",
    "        \n",
    "        convolution_output = tf.nn.bias_add(convolution_output, self.bias, data_format=self._tf_data_format)\n",
    "        \n",
    "        if self.activation is not None:\n",
    "            convolution_output= self.activation(convolution_output)\n",
    "            \n",
    "        return convolution_output"
   ]
  }
 ],
 "metadata": {
  "kernelspec": {
   "display_name": "Python 3",
   "language": "python",
   "name": "python3"
  },
  "language_info": {
   "codemirror_mode": {
    "name": "ipython",
    "version": 3
   },
   "file_extension": ".py",
   "mimetype": "text/x-python",
   "name": "python",
   "nbconvert_exporter": "python",
   "pygments_lexer": "ipython3",
   "version": "3.6.9"
  }
 },
 "nbformat": 4,
 "nbformat_minor": 5
}

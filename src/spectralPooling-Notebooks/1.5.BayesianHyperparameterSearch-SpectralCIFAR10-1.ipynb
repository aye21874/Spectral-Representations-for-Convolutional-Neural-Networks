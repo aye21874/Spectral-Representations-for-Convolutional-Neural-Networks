{
 "cells": [
  {
   "cell_type": "code",
   "execution_count": 1,
   "id": "25b0126c",
   "metadata": {},
   "outputs": [],
   "source": [
    "import keras_tuner as kt\n",
    "from tensorflow import keras\n",
    "\n",
    "import sys \n",
    "sys.path.append(\"../\")"
   ]
  },
  {
   "cell_type": "code",
   "execution_count": 2,
   "id": "1c32c4c6",
   "metadata": {},
   "outputs": [],
   "source": [
    "import tensorflow as tf\n",
    "import matplotlib.pyplot as plt \n",
    "import numpy as np \n",
    "\n",
    "from tensorflow.keras.models import Sequential\n",
    "from tensorflow.keras.layers import Dense, Flatten, Conv2D, AveragePooling2D, MaxPooling2D\n",
    "from tensorflow.keras import Model\n",
    "from tensorflow.keras.utils import to_categorical\n",
    "from tensorflow.keras.losses import categorical_crossentropy\n"
   ]
  },
  {
   "cell_type": "code",
   "execution_count": 3,
   "id": "6f3c30d7",
   "metadata": {},
   "outputs": [
    {
     "name": "stdout",
     "output_type": "stream",
     "text": [
      "[PhysicalDevice(name='/physical_device:GPU:0', device_type='GPU')]\n"
     ]
    }
   ],
   "source": [
    "import tensorflow as tf\n",
    "physical_devices = tf.config.list_physical_devices('GPU')\n",
    "tf.config.experimental.set_memory_growth(physical_devices[0], True)\n",
    "print(physical_devices)"
   ]
  },
  {
   "cell_type": "code",
   "execution_count": 5,
   "id": "d17fd529",
   "metadata": {},
   "outputs": [
    {
     "name": "stdout",
     "output_type": "stream",
     "text": [
      "./data/cifar-10-python.tar.gz already exists. Begin extracting...\n",
      "Train data shape:  (49000, 32, 32, 3)\n",
      "Train labels shape:  (49000,)\n",
      "Validation data shape:  (1000, 32, 32, 3)\n",
      "Validation labels shape:  (1000,)\n",
      "Test data shape:  (10000, 32, 32, 3)\n",
      "Test labels shape:  (10000,)\n",
      "Train labels shape (one-hot):  (49000, 10)\n",
      "Validation labels shape (one-hot):  (1000, 10)\n",
      "Test labels shape (one-hot):  (10000, 10)\n"
     ]
    }
   ],
   "source": [
    "# CIFAR10 Dataset\n",
    "from modules.utils import load_data\n",
    "X_train, y_train,X_test,y_test = load_data(mode='all')\n",
    "num_training = 49000\n",
    "num_validation = 1000\n",
    "\n",
    "X_val = X_train[-num_validation:, :]\n",
    "y_val = y_train[-num_validation:]\n",
    "\n",
    "X_train = X_train[:num_training, :]\n",
    "y_train = y_train[:num_training]\n",
    "\n",
    "# Preprocessing: subtract the mean value across every dimension for training data, and reshape it to be RGB size\n",
    "mean_image = np.mean(X_train, axis=0)\n",
    "X_train = X_train.astype(np.float32) - mean_image.astype(np.float32)\n",
    "X_val = X_val.astype(np.float32) - mean_image\n",
    "X_test = X_test.astype(np.float32) - mean_image\n",
    "\n",
    "X_train = X_train.reshape(-1,3,32,32).transpose(0,2,3,1) / 255\n",
    "X_val = X_val.reshape(-1,3,32,32).transpose(0,2,3,1) / 255\n",
    "X_test = X_test.reshape(-1,3,32,32).transpose(0,2,3,1) / 255\n",
    "\n",
    "print('Train data shape: ', X_train.shape)\n",
    "print('Train labels shape: ', y_train.shape)\n",
    "print('Validation data shape: ', X_val.shape)\n",
    "print('Validation labels shape: ', y_val.shape)\n",
    "print('Test data shape: ', X_test.shape)\n",
    "print('Test labels shape: ', y_test.shape)\n",
    "\n",
    "y_train_dummy = tf.keras.utils.to_categorical(y_train)\n",
    "y_val_dummy = tf.keras.utils.to_categorical(y_val)\n",
    "y_test_dummy = tf.keras.utils.to_categorical(y_test)\n",
    "print('Train labels shape (one-hot): ', y_train_dummy.shape)\n",
    "print('Validation labels shape (one-hot): ', y_val_dummy.shape)\n",
    "print('Test labels shape (one-hot): ', y_test_dummy.shape)"
   ]
  },
  {
   "cell_type": "code",
   "execution_count": 11,
   "id": "a9118a28",
   "metadata": {},
   "outputs": [],
   "source": [
    "from modules.CNN_withSpectralPooling import build_model"
   ]
  },
  {
   "cell_type": "code",
   "execution_count": 10,
   "id": "28652f2f",
   "metadata": {},
   "outputs": [
    {
     "name": "stdout",
     "output_type": "stream",
     "text": [
      "Collecting opencv-python\n",
      "  Downloading opencv_python-4.5.4.60-cp39-cp39-win_amd64.whl (35.1 MB)\n",
      "Requirement already satisfied: numpy>=1.19.3 in c:\\users\\ayush\\anaconda3\\envs\\tf-gpu\\lib\\site-packages (from opencv-python) (1.21.2)\n",
      "Installing collected packages: opencv-python\n",
      "Successfully installed opencv-python-4.5.4.60\n",
      "Note: you may need to restart the kernel to use updated packages.\n"
     ]
    }
   ],
   "source": [
    "pip install opencv-python"
   ]
  },
  {
   "cell_type": "code",
   "execution_count": 17,
   "id": "dfd1f18d",
   "metadata": {},
   "outputs": [],
   "source": [
    "def build_hyperparamter_model(hp):\n",
    "    input_shape=(32,32,3)\n",
    "    layers_count = hp.Int(\"layers_count\", min_value=2, max_value=8, step=1)\n",
    "    gamma = hp.Float(\"gamma\", min_value=0.75, max_value=.95)\n",
    "    \n",
    "    frequency_dropout_alpha = hp.Float(\"frequency_dropout_alpha\", min_value=0.1, max_value=1)\n",
    "    \n",
    "    frequency_dropout_beta = hp.Float(\"frequency_dropout_beta\", min_value=0.2, max_value=1)\n",
    "\n",
    "    model = build_model(input_shape,M=layers_count, num_output=10,gamma=gamma,frequency_dropout_alpha=frequency_dropout_alpha,frequency_dropout_beta=frequency_dropout_beta)\n",
    "    \n",
    "    model.compile(optimizer= tf.keras.optimizers.Adam(),\n",
    "                        loss='sparse_categorical_crossentropy',\n",
    "                        metrics=['accuracy'])\n",
    "\n",
    "    \n",
    "    return model"
   ]
  },
  {
   "cell_type": "code",
   "execution_count": 18,
   "id": "f2ee573c",
   "metadata": {},
   "outputs": [
    {
     "name": "stdout",
     "output_type": "stream",
     "text": [
      "Building Conv layer 1 with Filters count 128 and cnn_kernel_size (3, 3)\n",
      "Building Conv layer penultimate  with Filters count 160 and cnn_kernel_size (1, 1)\n",
      "Building Conv layer penultimate  with Filters count 10 and cnn_kernel_size (1, 1)\n"
     ]
    },
    {
     "data": {
      "text/plain": [
       "<tensorflow.python.keras.engine.sequential.Sequential at 0x227b731da30>"
      ]
     },
     "execution_count": 18,
     "metadata": {},
     "output_type": "execute_result"
    }
   ],
   "source": [
    "build_hyperparamter_model(kt.HyperParameters())\n"
   ]
  },
  {
   "cell_type": "code",
   "execution_count": 19,
   "id": "d43d1c04",
   "metadata": {},
   "outputs": [
    {
     "name": "stdout",
     "output_type": "stream",
     "text": [
      "Building Conv layer 1 with Filters count 128 and cnn_kernel_size (3, 3)\n",
      "Building Conv layer penultimate  with Filters count 160 and cnn_kernel_size (1, 1)\n",
      "Building Conv layer penultimate  with Filters count 10 and cnn_kernel_size (1, 1)\n"
     ]
    }
   ],
   "source": [
    "tuner = kt.BayesianOptimization(\n",
    "    hypermodel=build_hyperparamter_model,\n",
    "    objective=\"val_accuracy\",\n",
    "    max_trials=5,\n",
    "    executions_per_trial=1,\n",
    "    overwrite=True,\n",
    "    directory=\"hyperparameter_search\"\n",
    ")"
   ]
  },
  {
   "cell_type": "code",
   "execution_count": 20,
   "id": "a83bbd25",
   "metadata": {},
   "outputs": [
    {
     "name": "stdout",
     "output_type": "stream",
     "text": [
      "Search space summary\n",
      "Default search space size: 4\n",
      "layers_count (Int)\n",
      "{'default': None, 'conditions': [], 'min_value': 2, 'max_value': 8, 'step': 1, 'sampling': None}\n",
      "gamma (Float)\n",
      "{'default': 0.75, 'conditions': [], 'min_value': 0.75, 'max_value': 0.95, 'step': None, 'sampling': None}\n",
      "frequency_dropout_alpha (Float)\n",
      "{'default': 0.1, 'conditions': [], 'min_value': 0.1, 'max_value': 1.0, 'step': None, 'sampling': None}\n",
      "frequency_dropout_beta (Float)\n",
      "{'default': 0.2, 'conditions': [], 'min_value': 0.2, 'max_value': 1.0, 'step': None, 'sampling': None}\n"
     ]
    }
   ],
   "source": [
    "tuner.search_space_summary()"
   ]
  },
  {
   "cell_type": "code",
   "execution_count": 21,
   "id": "850919ab",
   "metadata": {},
   "outputs": [
    {
     "name": "stdout",
     "output_type": "stream",
     "text": [
      "Trial 5 Complete [00h 28m 29s]\n",
      "val_accuracy: 0.7960000038146973\n",
      "\n",
      "Best val_accuracy So Far: 0.8209999799728394\n",
      "Total elapsed time: 02h 05m 17s\n",
      "INFO:tensorflow:Oracle triggered exit\n"
     ]
    }
   ],
   "source": [
    "tuner.search(X_train, y_train, batch_size = 128, epochs=20, validation_data=(X_val, y_val))"
   ]
  },
  {
   "cell_type": "code",
   "execution_count": 22,
   "id": "9a11b3cc",
   "metadata": {},
   "outputs": [
    {
     "data": {
      "text/plain": [
       "<keras_tuner.engine.hyperparameters.HyperParameters at 0x227d2a4c280>"
      ]
     },
     "execution_count": 22,
     "metadata": {},
     "output_type": "execute_result"
    }
   ],
   "source": [
    "tuner.get_best_hyperparameters()[0]"
   ]
  },
  {
   "cell_type": "code",
   "execution_count": 23,
   "id": "443d1a25",
   "metadata": {},
   "outputs": [
    {
     "name": "stdout",
     "output_type": "stream",
     "text": [
      "Building Conv layer 1 with Filters count 128 and cnn_kernel_size (3, 3)\n",
      "Building Conv layer 2 with Filters count 160 and cnn_kernel_size (3, 3)\n",
      "Building Conv layer 3 with Filters count 192 and cnn_kernel_size (3, 3)\n",
      "Building Conv layer 4 with Filters count 224 and cnn_kernel_size (3, 3)\n",
      "Building Conv layer 5 with Filters count 256 and cnn_kernel_size (3, 3)\n",
      "Building Conv layer 6 with Filters count 288 and cnn_kernel_size (3, 3)\n",
      "Building Conv layer 7 with Filters count 320 and cnn_kernel_size (3, 3)\n",
      "Building Conv layer penultimate  with Filters count 352 and cnn_kernel_size (1, 1)\n",
      "Building Conv layer penultimate  with Filters count 10 and cnn_kernel_size (1, 1)\n"
     ]
    }
   ],
   "source": [
    "best_model= tuner.get_best_models()[0]"
   ]
  }
 ],
 "metadata": {
  "kernelspec": {
   "display_name": "Python 3",
   "language": "python",
   "name": "python3"
  },
  "language_info": {
   "codemirror_mode": {
    "name": "ipython",
    "version": 3
   },
   "file_extension": ".py",
   "mimetype": "text/x-python",
   "name": "python",
   "nbconvert_exporter": "python",
   "pygments_lexer": "ipython3",
   "version": "3.6.9"
  }
 },
 "nbformat": 4,
 "nbformat_minor": 5
}

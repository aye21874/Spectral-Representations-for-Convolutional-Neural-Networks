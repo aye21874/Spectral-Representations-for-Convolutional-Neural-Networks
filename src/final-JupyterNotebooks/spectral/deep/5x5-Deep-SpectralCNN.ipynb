{
 "cells": [
  {
   "cell_type": "code",
   "execution_count": 1,
   "id": "8d9ec77b",
   "metadata": {},
   "outputs": [],
   "source": [
    "%load_ext autoreload\n",
    "%autoreload 2\n",
    "import sys\n",
    "sys.path.append(\"/home/ecbm4040/Final_Project/e4040-2021Fall-Project-SCNN-as6430-as6456-vsk2123/src/\")"
   ]
  },
  {
   "cell_type": "code",
   "execution_count": 2,
   "id": "e2be64ad",
   "metadata": {},
   "outputs": [],
   "source": [
    "import tensorflow as tf\n",
    "import numpy as np\n",
    "#import keras\n",
    "from tensorflow import keras\n",
    "\n",
    "from tensorflow.keras.models import Sequential\n",
    "from tensorflow.keras.layers import Dense, Flatten, Conv2D, GlobalAveragePooling2D, MaxPooling2D,Softmax\n",
    "from tensorflow.keras import Model\n",
    "from tensorflow.keras.utils import to_categorical\n",
    "from tensorflow.keras.losses import categorical_crossentropy\n"
   ]
  },
  {
   "cell_type": "code",
   "execution_count": 3,
   "id": "238e6748",
   "metadata": {},
   "outputs": [
    {
     "name": "stdout",
     "output_type": "stream",
     "text": [
      "./data/cifar-10-python.tar.gz already exists. Begin extracting...\n",
      "Train data shape:  (49000, 32, 32, 3)\n",
      "Train labels shape:  (49000,)\n",
      "Validation data shape:  (1000, 32, 32, 3)\n",
      "Validation labels shape:  (1000,)\n",
      "Train labels shape (one-hot):  (49000, 10)\n",
      "Validation labels shape (one-hot):  (1000, 10)\n"
     ]
    }
   ],
   "source": [
    "# CIFAR10 Dataset\n",
    "from modules.utils import load_data\n",
    "X_train, y_train = load_data(mode='train')\n",
    "num_training = 49000\n",
    "num_validation = 1000\n",
    "\n",
    "X_val = X_train[-num_validation:, :]\n",
    "y_val = y_train[-num_validation:]\n",
    "\n",
    "X_train = X_train[:num_training, :]\n",
    "y_train = y_train[:num_training]\n",
    "\n",
    "# Preprocessing: subtract the mean value across every dimension for training data, and reshape it to be RGB size\n",
    "mean_image = np.mean(X_train, axis=0)\n",
    "X_train = X_train.astype(np.float32) - mean_image.astype(np.float32)\n",
    "X_val = X_val.astype(np.float32) - mean_image\n",
    "\n",
    "X_train = X_train.reshape(-1,3,32,32).transpose(0,2,3,1) / 255\n",
    "X_val = X_val.reshape(-1,3,32,32).transpose(0,2,3,1) / 255\n",
    "\n",
    "print('Train data shape: ', X_train.shape)\n",
    "print('Train labels shape: ', y_train.shape)\n",
    "print('Validation data shape: ', X_val.shape)\n",
    "print('Validation labels shape: ', y_val.shape)\n",
    "\n",
    "y_train_dummy = tf.keras.utils.to_categorical(y_train)\n",
    "y_val_dummy = tf.keras.utils.to_categorical(y_val)\n",
    "print('Train labels shape (one-hot): ', y_train_dummy.shape)\n",
    "print('Validation labels shape (one-hot): ', y_val_dummy.shape)"
   ]
  },
  {
   "attachments": {
    "image.png": {
     "image/png": "[encoded data removed]"
    }
   },
   "cell_type": "markdown",
   "id": "ac229c90",
   "metadata": {},
   "source": [
    "![image.png](attachment:image.png)"
   ]
  },
  {
   "cell_type": "code",
   "execution_count": 4,
   "id": "356e89ec",
   "metadata": {},
   "outputs": [],
   "source": [
    "from modules.layers import spectralConv2D\n",
    "\n",
    "\n",
    "def spectralCNN(input_shape):\n",
    "\n",
    "    model = Sequential()\n",
    "\n",
    "    model.add(spectralConv2D(96, kernel_size=(3,3),padding=\"VALID\", strides=(1,1), input_shape=input_shape))\n",
    "    model.add(MaxPooling2D(pool_size=(3,3),strides=(2,2)))\n",
    "    model.add(spectralConv2D(192, kernel_size=(3,3),padding=\"VALID\", strides=(1,1)))\n",
    "    model.add(MaxPooling2D(pool_size=(3,3),strides=(2,2)))\n",
    "    model.add(Flatten())\n",
    "    model.add(Dense(1024,activation=\"relu\"))\n",
    "    model.add(Dense(512,activation=\"relu\"))\n",
    "    model.add(Dense(10,activation=\"softmax\"))\n",
    "    return model\n",
    "    \n"
   ]
  },
  {
   "cell_type": "code",
   "execution_count": 5,
   "id": "08e3a1dc",
   "metadata": {},
   "outputs": [
    {
     "name": "stdout",
     "output_type": "stream",
     "text": [
      "Epoch 1/25\n",
      "383/383 [==============================] - 48s 14ms/step - loss: 1.5964 - accuracy: 0.4111 - val_loss: 1.0333 - val_accuracy: 0.6410\n",
      "Epoch 2/25\n",
      "383/383 [==============================] - 5s 13ms/step - loss: 0.9456 - accuracy: 0.6677 - val_loss: 0.8583 - val_accuracy: 0.7060\n",
      "Epoch 3/25\n",
      "383/383 [==============================] - 5s 13ms/step - loss: 0.7154 - accuracy: 0.7503 - val_loss: 0.7700 - val_accuracy: 0.7460\n",
      "Epoch 4/25\n",
      "383/383 [==============================] - 5s 13ms/step - loss: 0.5541 - accuracy: 0.8075 - val_loss: 0.7476 - val_accuracy: 0.7680\n",
      "Epoch 5/25\n",
      "383/383 [==============================] - 5s 13ms/step - loss: 0.4234 - accuracy: 0.8527 - val_loss: 0.6644 - val_accuracy: 0.7820\n",
      "Epoch 6/25\n",
      "383/383 [==============================] - 5s 13ms/step - loss: 0.2987 - accuracy: 0.8974 - val_loss: 0.7299 - val_accuracy: 0.7750\n",
      "Epoch 7/25\n",
      "383/383 [==============================] - 5s 13ms/step - loss: 0.1917 - accuracy: 0.9360 - val_loss: 0.8107 - val_accuracy: 0.7840\n",
      "Epoch 8/25\n",
      "383/383 [==============================] - 5s 12ms/step - loss: 0.1396 - accuracy: 0.9536 - val_loss: 0.9044 - val_accuracy: 0.7750\n",
      "Epoch 9/25\n",
      "383/383 [==============================] - 5s 12ms/step - loss: 0.1054 - accuracy: 0.9643 - val_loss: 1.0654 - val_accuracy: 0.7610\n",
      "Epoch 10/25\n",
      "383/383 [==============================] - 5s 12ms/step - loss: 0.0851 - accuracy: 0.9714 - val_loss: 1.0487 - val_accuracy: 0.7750\n",
      "Epoch 11/25\n",
      "383/383 [==============================] - 5s 12ms/step - loss: 0.0651 - accuracy: 0.9780 - val_loss: 1.2482 - val_accuracy: 0.7580\n",
      "Epoch 12/25\n",
      "383/383 [==============================] - 5s 12ms/step - loss: 0.0642 - accuracy: 0.9777 - val_loss: 1.2966 - val_accuracy: 0.7770\n",
      "Epoch 13/25\n",
      "383/383 [==============================] - 5s 12ms/step - loss: 0.0587 - accuracy: 0.9792 - val_loss: 1.4481 - val_accuracy: 0.7650\n",
      "Epoch 14/25\n",
      "383/383 [==============================] - 5s 12ms/step - loss: 0.0650 - accuracy: 0.9778 - val_loss: 1.4173 - val_accuracy: 0.7680\n",
      "Epoch 15/25\n",
      "383/383 [==============================] - 5s 12ms/step - loss: 0.0450 - accuracy: 0.9853 - val_loss: 1.3635 - val_accuracy: 0.7740\n",
      "Epoch 16/25\n",
      "383/383 [==============================] - 5s 13ms/step - loss: 0.0513 - accuracy: 0.9825 - val_loss: 1.4159 - val_accuracy: 0.7680\n",
      "Epoch 17/25\n",
      "383/383 [==============================] - 5s 12ms/step - loss: 0.0382 - accuracy: 0.9873 - val_loss: 1.3910 - val_accuracy: 0.7500\n",
      "Epoch 18/25\n",
      "383/383 [==============================] - 5s 12ms/step - loss: 0.0485 - accuracy: 0.9833 - val_loss: 1.4379 - val_accuracy: 0.7670\n",
      "Epoch 19/25\n",
      "383/383 [==============================] - 5s 12ms/step - loss: 0.0393 - accuracy: 0.9875 - val_loss: 1.4327 - val_accuracy: 0.7600\n",
      "Epoch 20/25\n",
      "383/383 [==============================] - 5s 12ms/step - loss: 0.0418 - accuracy: 0.9858 - val_loss: 1.5260 - val_accuracy: 0.7630\n",
      "Epoch 21/25\n",
      "383/383 [==============================] - 5s 12ms/step - loss: 0.0333 - accuracy: 0.9891 - val_loss: 1.4644 - val_accuracy: 0.7800\n",
      "Epoch 22/25\n",
      "383/383 [==============================] - 5s 12ms/step - loss: 0.0329 - accuracy: 0.9887 - val_loss: 1.5214 - val_accuracy: 0.7480\n",
      "Epoch 23/25\n",
      "383/383 [==============================] - 5s 13ms/step - loss: 0.0453 - accuracy: 0.9854 - val_loss: 1.6169 - val_accuracy: 0.7560\n",
      "Epoch 24/25\n",
      "383/383 [==============================] - 5s 13ms/step - loss: 0.0252 - accuracy: 0.9915 - val_loss: 1.6936 - val_accuracy: 0.7540\n",
      "Epoch 25/25\n",
      "383/383 [==============================] - 5s 13ms/step - loss: 0.0363 - accuracy: 0.9884 - val_loss: 1.5962 - val_accuracy: 0.7470\n"
     ]
    }
   ],
   "source": [
    "spectral_cnn_model = spectralCNN(X_train.shape[1:])\n",
    "\n",
    "spectral_cnn_model.compile(optimizer='adam', loss='sparse_categorical_crossentropy', metrics=['accuracy'])\n",
    "\n",
    "\n",
    "history=spectral_cnn_model.fit(x=X_train, y=y_train,\n",
    "          batch_size=128,\n",
    "          epochs=25, \n",
    "          validation_data=(X_val, y_val)\n",
    "              )"
   ]
  },
  {
   "cell_type": "code",
   "execution_count": 7,
   "id": "f5788e96",
   "metadata": {},
   "outputs": [
    {
     "data": {
      "image/png": "[encoded data removed]",
      "text/plain": [
       "<Figure size 432x288 with 1 Axes>"
      ]
     },
     "metadata": {
      "needs_background": "light"
     },
     "output_type": "display_data"
    }
   ],
   "source": [
    "import matplotlib.pyplot as plt \n",
    "plt.plot(history.history['loss'])\n",
    "plt.title('model loss')\n",
    "plt.ylabel('loss')\n",
    "plt.xlabel('epoch')\n",
    "plt.show()"
   ]
  },
  {
   "cell_type": "code",
   "execution_count": null,
   "id": "27ecad67",
   "metadata": {},
   "outputs": [],
   "source": []
  }
 ],
 "metadata": {
  "kernelspec": {
   "display_name": "Python 3",
   "language": "python",
   "name": "python3"
  },
  "language_info": {
   "codemirror_mode": {
    "name": "ipython",
    "version": 3
   },
   "file_extension": ".py",
   "mimetype": "text/x-python",
   "name": "python",
   "nbconvert_exporter": "python",
   "pygments_lexer": "ipython3",
   "version": "3.6.9"
  }
 },
 "nbformat": 4,
 "nbformat_minor": 5
}

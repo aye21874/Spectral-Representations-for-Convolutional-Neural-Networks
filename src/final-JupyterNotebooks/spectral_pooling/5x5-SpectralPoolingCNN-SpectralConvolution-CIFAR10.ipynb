{
 "cells": [
  {
   "cell_type": "code",
   "execution_count": 2,
   "id": "807bc148",
   "metadata": {},
   "outputs": [],
   "source": [
    "%load_ext autoreload\n",
    "%autoreload 2\n"
   ]
  },
  {
   "cell_type": "code",
   "execution_count": 3,
   "id": "8bcf3322",
   "metadata": {},
   "outputs": [],
   "source": [
    "import sys\n",
    "sys.path.append(\"/home/ecbm4040/Final_Project/e4040-2021Fall-Project-SCNN-as6430-as6456-vsk2123/src/\")"
   ]
  },
  {
   "cell_type": "code",
   "execution_count": 2,
   "id": "a00dea0a",
   "metadata": {},
   "outputs": [],
   "source": [
    "import tensorflow as tf\n",
    "import matplotlib.pyplot as plt \n",
    "import numpy as np \n",
    "\n",
    "from tensorflow.keras.models import Sequential\n",
    "from tensorflow.keras.layers import Dense, Flatten, Conv2D, AveragePooling2D, MaxPooling2D\n",
    "from tensorflow.keras import Model\n",
    "from tensorflow.keras.utils import to_categorical\n",
    "from tensorflow.keras.losses import categorical_crossentropy\n",
    "from tensorflow.keras.preprocessing.image import ImageDataGenerator\n"
   ]
  },
  {
   "cell_type": "code",
   "execution_count": 3,
   "id": "261c1453",
   "metadata": {},
   "outputs": [
    {
     "name": "stdout",
     "output_type": "stream",
     "text": [
      "[PhysicalDevice(name='/physical_device:GPU:0', device_type='GPU')]\n"
     ]
    }
   ],
   "source": [
    "import tensorflow as tf\n",
    "physical_devices = tf.config.list_physical_devices('GPU')\n",
    "tf.config.experimental.set_memory_growth(physical_devices[0], True)\n",
    "print(physical_devices)"
   ]
  },
  {
   "cell_type": "code",
   "execution_count": 4,
   "id": "6435b1cd",
   "metadata": {},
   "outputs": [
    {
     "name": "stdout",
     "output_type": "stream",
     "text": [
      "./data/cifar-10-python.tar.gz already exists. Begin extracting...\n",
      "Train data shape:  (49000, 32, 32, 3)\n",
      "Train labels shape:  (49000,)\n",
      "Validation data shape:  (1000, 32, 32, 3)\n",
      "Validation labels shape:  (1000,)\n",
      "Test data shape:  (10000, 32, 32, 3)\n",
      "Test labels shape:  (10000,)\n",
      "Train labels shape (one-hot):  (49000, 10)\n",
      "Validation labels shape (one-hot):  (1000, 10)\n",
      "Test labels shape (one-hot):  (10000, 10)\n"
     ]
    }
   ],
   "source": [
    "# CIFAR10 Dataset\n",
    "from modules.utils import load_data\n",
    "X_train, y_train,X_test,y_test = load_data(mode='all')\n",
    "num_training = 49000\n",
    "num_validation = 1000\n",
    "\n",
    "X_val = X_train[-num_validation:, :]\n",
    "y_val = y_train[-num_validation:]\n",
    "\n",
    "X_train = X_train[:num_training, :]\n",
    "y_train = y_train[:num_training]\n",
    "\n",
    "# Preprocessing: subtract the mean value across every dimension for training data, and reshape it to be RGB size\n",
    "mean_image = np.mean(X_train, axis=0)\n",
    "X_train = X_train.astype(np.float32) - mean_image.astype(np.float32)\n",
    "X_val = X_val.astype(np.float32) - mean_image\n",
    "X_test = X_test.astype(np.float32) - mean_image\n",
    "\n",
    "X_train = X_train.reshape(-1,3,32,32).transpose(0,2,3,1) / 255\n",
    "X_val = X_val.reshape(-1,3,32,32).transpose(0,2,3,1) / 255\n",
    "X_test = X_test.reshape(-1,3,32,32).transpose(0,2,3,1) / 255\n",
    "\n",
    "print('Train data shape: ', X_train.shape)\n",
    "print('Train labels shape: ', y_train.shape)\n",
    "print('Validation data shape: ', X_val.shape)\n",
    "print('Validation labels shape: ', y_val.shape)\n",
    "print('Test data shape: ', X_test.shape)\n",
    "print('Test labels shape: ', y_test.shape)\n",
    "\n",
    "y_train_dummy = tf.keras.utils.to_categorical(y_train)\n",
    "y_val_dummy = tf.keras.utils.to_categorical(y_val)\n",
    "y_test_dummy = tf.keras.utils.to_categorical(y_test)\n",
    "print('Train labels shape (one-hot): ', y_train_dummy.shape)\n",
    "print('Validation labels shape (one-hot): ', y_val_dummy.shape)\n",
    "print('Test labels shape (one-hot): ', y_test_dummy.shape)"
   ]
  },
  {
   "cell_type": "code",
   "execution_count": 1,
   "id": "ea093f3b",
   "metadata": {},
   "outputs": [
    {
     "ename": "NameError",
     "evalue": "name 'ImageDataGenerator' is not defined",
     "output_type": "error",
     "traceback": [
      "\u001b[0;31m---------------------------------------------------------------------------\u001b[0m",
      "\u001b[0;31mNameError\u001b[0m                                 Traceback (most recent call last)",
      "\u001b[0;32m<ipython-input-1-a4217ebc80d4>\u001b[0m in \u001b[0;36m<module>\u001b[0;34m\u001b[0m\n\u001b[1;32m     14\u001b[0m         \u001b[0;32mreturn\u001b[0m \u001b[0mimage\u001b[0m \u001b[0;31m# so as to avoid not change hue for every image\u001b[0m\u001b[0;34m\u001b[0m\u001b[0;34m\u001b[0m\u001b[0m\n\u001b[1;32m     15\u001b[0m \u001b[0;34m\u001b[0m\u001b[0m\n\u001b[0;32m---> 16\u001b[0;31m datagen = ImageDataGenerator(\n\u001b[0m\u001b[1;32m     17\u001b[0m     \u001b[0mhorizontal_flip\u001b[0m\u001b[0;34m=\u001b[0m\u001b[0;32mTrue\u001b[0m\u001b[0;34m,\u001b[0m\u001b[0;34m\u001b[0m\u001b[0;34m\u001b[0m\u001b[0m\n\u001b[1;32m     18\u001b[0m     \u001b[0mwidth_shift_range\u001b[0m\u001b[0;34m=\u001b[0m\u001b[0;36m0.1\u001b[0m\u001b[0;34m,\u001b[0m\u001b[0;34m\u001b[0m\u001b[0;34m\u001b[0m\u001b[0m\n",
      "\u001b[0;31mNameError\u001b[0m: name 'ImageDataGenerator' is not defined"
     ]
    }
   ],
   "source": [
    "# Data augmentation code\n",
    "import numpy as np\n",
    "import random\n",
    "\n",
    "def HSV_perturbations(image):\n",
    "    choice=random.randint(1,3)\n",
    "    print(choice)\n",
    "    image = np.array(image)\n",
    "    if choice ==1:\n",
    "        return tf.image.random_hue(image, 1/random.randint(1,10))\n",
    "    elif choice ==2:\n",
    "        return tf.image.random_saturation(image, 5, 10)\n",
    "    else:\n",
    "        return image # so as to avoid not change hue for every image\n",
    "\n",
    "datagen = ImageDataGenerator(\n",
    "    horizontal_flip=True,\n",
    "    width_shift_range=0.1,\n",
    "    height_shift_range=0.1,\n",
    "    brightness_range=[0.5,1.5]\n",
    "    )\n",
    "datagen.fit(X_train)\n",
    "\n",
    "# Plot sample augmented images\n",
    "for X_batch, y_batch in datagen.flow(X_train, y_train, batch_size=9):\n",
    "    for i in range(0, 9):\n",
    "        plt.subplot(330 + 1 + i)\n",
    "        plt.imshow(X_batch[i].astype(np.uint8))\n",
    "    plt.show()\n",
    "    break"
   ]
  },
  {
   "attachments": {
    "image.png": {
     "image/png": "[encoded data removed]"
    }
   },
   "cell_type": "markdown",
   "id": "722b6fa2",
   "metadata": {},
   "source": [
    "### CNN Structure as described  in paperm\n",
    "![image.png](attachment:image.png)"
   ]
  },
  {
   "cell_type": "code",
   "execution_count": 5,
   "id": "bf2f2921",
   "metadata": {},
   "outputs": [],
   "source": [
    "from tensorflow.keras.models import Sequential\n",
    "from tensorflow.keras.layers import Dense, Flatten, Conv2D, AveragePooling2D, MaxPooling2D\n",
    "from tensorflow.keras import Model"
   ]
  },
  {
   "cell_type": "code",
   "execution_count": 6,
   "id": "fb310405",
   "metadata": {},
   "outputs": [],
   "source": [
    "from modules.CNN_withSpectralPooling import build_spectral_conv_model_5x5"
   ]
  },
  {
   "cell_type": "code",
   "execution_count": 7,
   "id": "917dbb61",
   "metadata": {},
   "outputs": [
    {
     "name": "stdout",
     "output_type": "stream",
     "text": [
      "Building Conv layer 1 with Filters count 128 and cnn_kernel_size (3, 3)\n",
      "Building Conv layer 2 with Filters count 160 and cnn_kernel_size (3, 3)\n",
      "Building Conv layer 3 with Filters count 192 and cnn_kernel_size (3, 3)\n",
      "Building Conv layer 4 with Filters count 224 and cnn_kernel_size (3, 3)\n",
      "Building Conv layer 5 with Filters count 256 and cnn_kernel_size (3, 3)\n",
      "Building Conv layer 6 with Filters count 288 and cnn_kernel_size (3, 3)\n",
      "Building Conv layer 7 with Filters count 320 and cnn_kernel_size (3, 3)\n",
      "Building Conv layer penultimate  with Filters count 352 and cnn_kernel_size (1, 1)\n",
      "Building Conv layer penultimate  with Filters count 10 and cnn_kernel_size (1, 1)\n"
     ]
    }
   ],
   "source": [
    "SpectralPooling_5x5_SpectralConvolutionModel = build_spectral_conv_model_5x5(X_train.shape[1:],M=8,num_output=10,gamma=0.85)"
   ]
  },
  {
   "cell_type": "code",
   "execution_count": 8,
   "id": "d8255ee7",
   "metadata": {},
   "outputs": [
    {
     "name": "stdout",
     "output_type": "stream",
     "text": [
      "Model: \"sequential\"\n",
      "_________________________________________________________________\n",
      "Layer (type)                 Output Shape              Param #   \n",
      "=================================================================\n",
      "conv2d (Conv2D)              (None, 30, 30, 128)       3584      \n",
      "_________________________________________________________________\n",
      "spectral__pool (Spectral_Poo (None, 26, 26, 128)       0         \n",
      "_________________________________________________________________\n",
      "re_lu (ReLU)                 (None, 26, 26, 128)       0         \n",
      "_________________________________________________________________\n",
      "conv2d_1 (Conv2D)            (None, 24, 24, 160)       184480    \n",
      "_________________________________________________________________\n",
      "spectral__pool_1 (Spectral_P (None, 20, 20, 160)       0         \n",
      "_________________________________________________________________\n",
      "re_lu_1 (ReLU)               (None, 20, 20, 160)       0         \n",
      "_________________________________________________________________\n",
      "conv2d_2 (Conv2D)            (None, 18, 18, 192)       276672    \n",
      "_________________________________________________________________\n",
      "spectral__pool_2 (Spectral_P (None, 16, 16, 192)       0         \n",
      "_________________________________________________________________\n",
      "re_lu_2 (ReLU)               (None, 16, 16, 192)       0         \n",
      "_________________________________________________________________\n",
      "conv2d_3 (Conv2D)            (None, 14, 14, 224)       387296    \n",
      "_________________________________________________________________\n",
      "spectral__pool_3 (Spectral_P (None, 12, 12, 224)       0         \n",
      "_________________________________________________________________\n",
      "re_lu_3 (ReLU)               (None, 12, 12, 224)       0         \n",
      "_________________________________________________________________\n",
      "conv2d_4 (Conv2D)            (None, 10, 10, 256)       516352    \n",
      "_________________________________________________________________\n",
      "spectral__pool_4 (Spectral_P (None, 8, 8, 256)         0         \n",
      "_________________________________________________________________\n",
      "re_lu_4 (ReLU)               (None, 8, 8, 256)         0         \n",
      "_________________________________________________________________\n",
      "conv2d_5 (Conv2D)            (None, 6, 6, 288)         663840    \n",
      "_________________________________________________________________\n",
      "spectral__pool_5 (Spectral_P (None, 6, 6, 288)         0         \n",
      "_________________________________________________________________\n",
      "re_lu_5 (ReLU)               (None, 6, 6, 288)         0         \n",
      "_________________________________________________________________\n",
      "conv2d_6 (Conv2D)            (None, 4, 4, 320)         829760    \n",
      "_________________________________________________________________\n",
      "spectral__pool_6 (Spectral_P (None, 4, 4, 320)         0         \n",
      "_________________________________________________________________\n",
      "re_lu_6 (ReLU)               (None, 4, 4, 320)         0         \n",
      "_________________________________________________________________\n",
      "conv2d_7 (Conv2D)            (None, 4, 4, 10)          3210      \n",
      "_________________________________________________________________\n",
      "global_average_pooling2d (Gl (None, 10)                0         \n",
      "_________________________________________________________________\n",
      "softmax (Softmax)            (None, 10)                0         \n",
      "=================================================================\n",
      "Total params: 2,865,194\n",
      "Trainable params: 2,865,194\n",
      "Non-trainable params: 0\n",
      "_________________________________________________________________\n"
     ]
    }
   ],
   "source": [
    "SpectralPooling_5x5_SpectralConvolutionModel.summary()"
   ]
  },
  {
   "cell_type": "code",
   "execution_count": 9,
   "id": "6a59ee59",
   "metadata": {},
   "outputs": [],
   "source": [
    "batch_size=128\n",
    "nb_epochs=50\n",
    "\n",
    "output_size=10\n",
    "\n",
    "train_generator = datagen.flow(X_train, y_train, batch_size=batch_size)\n",
    "valid_generator = datagen.flow(X_val, y_val, batch_size=batch_size)\n",
    "\n",
    "SpectralPooling_5x5_SpectralConvolutionModel.compile(optimizer='adam', loss='sparse_categorical_crossentropy', metrics=['accuracy'])\n",
    "\n",
    "history=SpectralPooling_5x5_SpectralConvolutionModel.fit_generator(train_generator,epochs=nb_epochs,steps_per_epoch=len(X_train)//batch_size, validation_data=valid_generator)\n",
    "\n"
   ]
  },
  {
   "cell_type": "code",
   "execution_count": 10,
   "id": "47b43445",
   "metadata": {},
   "outputs": [
    {
     "name": "stdout",
     "output_type": "stream",
     "text": [
      "WARNING:tensorflow:Model failed to serialize as JSON. Ignoring... Layer Spectral_Pool has arguments in `__init__` and therefore must override `get_config`.\n",
      "Epoch 1/25\n",
      "192/192 [==============================] - 110s 335ms/step - loss: 2.1820 - accuracy: 0.1936 - val_loss: 1.7128 - val_accuracy: 0.4050\n",
      "Epoch 2/25\n",
      "192/192 [==============================] - 59s 308ms/step - loss: 1.6019 - accuracy: 0.4447 - val_loss: 1.2929 - val_accuracy: 0.5300\n",
      "Epoch 3/25\n",
      "192/192 [==============================] - 59s 309ms/step - loss: 1.2226 - accuracy: 0.5600 - val_loss: 1.1769 - val_accuracy: 0.5870\n",
      "Epoch 4/25\n",
      "192/192 [==============================] - 59s 309ms/step - loss: 1.0266 - accuracy: 0.6318 - val_loss: 0.9119 - val_accuracy: 0.6760\n",
      "Epoch 5/25\n",
      "192/192 [==============================] - 59s 309ms/step - loss: 0.8796 - accuracy: 0.6895 - val_loss: 0.7872 - val_accuracy: 0.7170\n",
      "Epoch 6/25\n",
      "192/192 [==============================] - 59s 309ms/step - loss: 0.7768 - accuracy: 0.7249 - val_loss: 0.7724 - val_accuracy: 0.7310\n",
      "Epoch 7/25\n",
      "192/192 [==============================] - 59s 310ms/step - loss: 0.6876 - accuracy: 0.7580 - val_loss: 0.7307 - val_accuracy: 0.7450\n",
      "Epoch 8/25\n",
      "192/192 [==============================] - 59s 309ms/step - loss: 0.6461 - accuracy: 0.7737 - val_loss: 0.7024 - val_accuracy: 0.7570\n",
      "Epoch 9/25\n",
      "192/192 [==============================] - 59s 309ms/step - loss: 0.5635 - accuracy: 0.8031 - val_loss: 0.6742 - val_accuracy: 0.7590\n",
      "Epoch 10/25\n",
      "192/192 [==============================] - 59s 309ms/step - loss: 0.5402 - accuracy: 0.8087 - val_loss: 0.6611 - val_accuracy: 0.7850\n",
      "Epoch 11/25\n",
      "192/192 [==============================] - 59s 309ms/step - loss: 0.4606 - accuracy: 0.8367 - val_loss: 0.6634 - val_accuracy: 0.7710\n",
      "Epoch 12/25\n",
      "192/192 [==============================] - 59s 309ms/step - loss: 0.4200 - accuracy: 0.8496 - val_loss: 0.6496 - val_accuracy: 0.8010\n",
      "Epoch 13/25\n",
      "192/192 [==============================] - 59s 309ms/step - loss: 0.3936 - accuracy: 0.8611 - val_loss: 0.6755 - val_accuracy: 0.7830\n",
      "Epoch 14/25\n",
      "192/192 [==============================] - 59s 309ms/step - loss: 0.3549 - accuracy: 0.8748 - val_loss: 0.6725 - val_accuracy: 0.7940\n",
      "Epoch 15/25\n",
      "192/192 [==============================] - 60s 310ms/step - loss: 0.3014 - accuracy: 0.8940 - val_loss: 0.6821 - val_accuracy: 0.7930\n",
      "Epoch 16/25\n",
      "192/192 [==============================] - 59s 309ms/step - loss: 0.2728 - accuracy: 0.9042 - val_loss: 0.6775 - val_accuracy: 0.7950\n",
      "Epoch 17/25\n",
      "192/192 [==============================] - 59s 310ms/step - loss: 0.2403 - accuracy: 0.9158 - val_loss: 0.6790 - val_accuracy: 0.7830\n",
      "Epoch 18/25\n",
      "192/192 [==============================] - 59s 309ms/step - loss: 0.2071 - accuracy: 0.9273 - val_loss: 0.8055 - val_accuracy: 0.7900\n",
      "Epoch 19/25\n",
      "192/192 [==============================] - 59s 309ms/step - loss: 0.1660 - accuracy: 0.9432 - val_loss: 0.7900 - val_accuracy: 0.8080\n",
      "Epoch 21/25\n",
      "192/192 [==============================] - 59s 309ms/step - loss: 0.1372 - accuracy: 0.9530 - val_loss: 0.8633 - val_accuracy: 0.7870\n",
      "Epoch 22/25\n",
      "192/192 [==============================] - 59s 310ms/step - loss: 0.1228 - accuracy: 0.9575 - val_loss: 1.0233 - val_accuracy: 0.7810\n",
      "Epoch 23/25\n",
      "192/192 [==============================] - 59s 309ms/step - loss: 0.1200 - accuracy: 0.9577 - val_loss: 0.9627 - val_accuracy: 0.7980\n",
      "Epoch 24/25\n",
      "192/192 [==============================] - 59s 309ms/step - loss: 0.1069 - accuracy: 0.9643 - val_loss: 1.0812 - val_accuracy: 0.7770\n",
      "Epoch 25/25\n",
      "192/192 [==============================] - 59s 309ms/step - loss: 0.0997 - accuracy: 0.9648 - val_loss: 1.0422 - val_accuracy: 0.7910\n"
     ]
    }
   ],
   "source": [
    "# Save the model\n",
    "SpectralPooling_5x5_SpectralConvolutionModel.save('5x5Spectral_Pooling_SpectralConvolution.h5') # Save model\n",
    "\n",
    "# Save the history so as to make the plot\n",
    "import pickle\n",
    "with open('history_5x5Spectral_Pooling_SpectralConvolution', 'wb') as file_pi:\n",
    "        pickle.dump(history.history, file_pi)"
   ]
  },
  {
   "cell_type": "code",
   "execution_count": 11,
   "id": "b2accb68",
   "metadata": {},
   "outputs": [
    {
     "name": "stdout",
     "output_type": "stream",
     "text": [
      "79/79 [==============================] - 6s 63ms/step - loss: 1.1742 - accuracy: 0.7722\n",
      "test loss, test acc: [1.1741597652435303, 0.7721999883651733]\n"
     ]
    }
   ],
   "source": [
    "results = SpectralPooling_5x5_SpectralConvolutionModel.evaluate(X_test, y_test, batch_size=128)\n",
    "print(\"test loss, test acc:\", results)"
   ]
  },
  {
   "cell_type": "code",
   "execution_count": 13,
   "id": "bd82aef0",
   "metadata": {},
   "outputs": [
    {
     "name": "stdout",
     "output_type": "stream",
     "text": [
      "INFO:tensorflow:Assets written to: tensorflow/spectral_pooling_cifar10/assets\n"
     ]
    }
   ],
   "source": [
    "SpectralPooling_5x5_SpectralConvolutionModel.save('tensorflow/SpectralPooling_5x5_SpectralConvolutionModel')"
   ]
  },
  {
   "cell_type": "code",
   "execution_count": null,
   "id": "306c3495",
   "metadata": {},
   "outputs": [],
   "source": []
  }
 ],
 "metadata": {
  "kernelspec": {
   "display_name": "Python 3",
   "language": "python",
   "name": "python3"
  },
  "language_info": {
   "codemirror_mode": {
    "name": "ipython",
    "version": 3
   },
   "file_extension": ".py",
   "mimetype": "text/x-python",
   "name": "python",
   "nbconvert_exporter": "python",
   "pygments_lexer": "ipython3",
   "version": "3.6.9"
  }
 },
 "nbformat": 4,
 "nbformat_minor": 5
}

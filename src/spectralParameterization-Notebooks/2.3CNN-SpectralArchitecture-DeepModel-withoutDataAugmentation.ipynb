{
 "cells": [
  {
   "cell_type": "code",
   "execution_count": 4,
   "id": "8d9ec77b",
   "metadata": {},
   "outputs": [
    {
     "name": "stdout",
     "output_type": "stream",
     "text": [
      "The autoreload extension is already loaded. To reload it, use:\n",
      "  %reload_ext autoreload\n"
     ]
    }
   ],
   "source": [
    "%load_ext autoreload\n",
    "%autoreload 2\n",
    "\n",
    "import sys \n",
    "sys.path.append(\"../\")"
   ]
  },
  {
   "cell_type": "code",
   "execution_count": 5,
   "id": "e2be64ad",
   "metadata": {},
   "outputs": [],
   "source": [
    "import tensorflow as tf\n",
    "import numpy as np\n",
    "#import keras\n",
    "from tensorflow import keras\n",
    "\n",
    "from tensorflow.keras.models import Sequential\n",
    "from tensorflow.keras.layers import Dense, Flatten, Conv2D, GlobalAveragePooling2D, MaxPooling2D,Softmax\n",
    "from tensorflow.keras import Model\n",
    "from tensorflow.keras.utils import to_categorical\n",
    "from tensorflow.keras.losses import categorical_crossentropy\n"
   ]
  },
  {
   "cell_type": "code",
   "execution_count": 6,
   "id": "238e6748",
   "metadata": {},
   "outputs": [
    {
     "name": "stdout",
     "output_type": "stream",
     "text": [
      "Start downloading data...\n",
      "Download complete.\n",
      "Train data shape:  (49000, 32, 32, 3)\n",
      "Train labels shape:  (49000,)\n",
      "Validation data shape:  (1000, 32, 32, 3)\n",
      "Validation labels shape:  (1000,)\n",
      "Train labels shape (one-hot):  (49000, 10)\n",
      "Validation labels shape (one-hot):  (1000, 10)\n"
     ]
    }
   ],
   "source": [
    "# CIFAR10 Dataset\n",
    "from modules.utils import load_data\n",
    "X_train, y_train = load_data(mode='train')\n",
    "num_training = 49000\n",
    "num_validation = 1000\n",
    "\n",
    "X_val = X_train[-num_validation:, :]\n",
    "y_val = y_train[-num_validation:]\n",
    "\n",
    "X_train = X_train[:num_training, :]\n",
    "y_train = y_train[:num_training]\n",
    "\n",
    "# Preprocessing: subtract the mean value across every dimension for training data, and reshape it to be RGB size\n",
    "mean_image = np.mean(X_train, axis=0)\n",
    "X_train = X_train.astype(np.float32) - mean_image.astype(np.float32)\n",
    "X_val = X_val.astype(np.float32) - mean_image\n",
    "\n",
    "X_train = X_train.reshape(-1,3,32,32).transpose(0,2,3,1) / 255\n",
    "X_val = X_val.reshape(-1,3,32,32).transpose(0,2,3,1) / 255\n",
    "\n",
    "print('Train data shape: ', X_train.shape)\n",
    "print('Train labels shape: ', y_train.shape)\n",
    "print('Validation data shape: ', X_val.shape)\n",
    "print('Validation labels shape: ', y_val.shape)\n",
    "\n",
    "y_train_dummy = tf.keras.utils.to_categorical(y_train)\n",
    "y_val_dummy = tf.keras.utils.to_categorical(y_val)\n",
    "print('Train labels shape (one-hot): ', y_train_dummy.shape)\n",
    "print('Validation labels shape (one-hot): ', y_val_dummy.shape)"
   ]
  },
  {
   "cell_type": "code",
   "execution_count": 8,
   "id": "356e89ec",
   "metadata": {},
   "outputs": [],
   "source": [
    "from modules.layers import spectralConv2D\n",
    "\n",
    "\n",
    "def spectralCNN(input_shape):\n",
    "\n",
    "    model = Sequential()\n",
    "\n",
    "    model.add(spectralConv2D(96, kernel_size=(3,3),padding=\"VALID\", strides=(1,1), input_shape=input_shape))\n",
    "    model.add(spectralConv2D(96, kernel_size=(3,3),padding=\"VALID\", strides=(1,1) ))\n",
    "    model.add(MaxPooling2D(pool_size=(3,3),strides=(2,2)))\n",
    "\n",
    "    model.add(spectralConv2D(192, kernel_size=(3,3),padding=\"VALID\",strides=(1,1)))\n",
    "    model.add(spectralConv2D(192, kernel_size=(3,3),padding=\"VALID\", strides=(1,1)))\n",
    "    model.add(spectralConv2D(192, kernel_size=(3,3),padding=\"VALID\", strides=(1,1)))        \n",
    "    model.add(MaxPooling2D(pool_size=(3,3),strides=(2,2)))\n",
    "    \n",
    "    model.add(spectralConv2D(192, kernel_size=(1,1),padding=\"VALID\",strides=(1,1)))\n",
    "\n",
    "    model.add(spectralConv2D(10, kernel_size=(1,1),padding=\"VALID\",strides=(1,1)))    \n",
    "    model.add(GlobalAveragePooling2D())\n",
    "    model.add(Softmax())\n",
    "    return model\n",
    "    \n"
   ]
  },
  {
   "cell_type": "code",
   "execution_count": null,
   "id": "08e3a1dc",
   "metadata": {},
   "outputs": [
    {
     "name": "stdout",
     "output_type": "stream",
     "text": [
      "Epoch 1/25\n",
      "383/383 [==============================] - 33s 32ms/step - loss: 2.0779 - accuracy: 0.2540 - val_loss: 1.7435 - val_accuracy: 0.4100\n",
      "Epoch 2/25\n",
      "383/383 [==============================] - 11s 29ms/step - loss: 1.6455 - accuracy: 0.4468 - val_loss: 1.4074 - val_accuracy: 0.5150\n",
      "Epoch 3/25\n",
      "383/383 [==============================] - 11s 30ms/step - loss: 1.3160 - accuracy: 0.5556 - val_loss: 1.2179 - val_accuracy: 0.5950\n",
      "Epoch 4/25\n",
      "383/383 [==============================] - 11s 30ms/step - loss: 1.1793 - accuracy: 0.5993 - val_loss: 1.1374 - val_accuracy: 0.6060\n",
      "Epoch 5/25\n",
      "383/383 [==============================] - 12s 30ms/step - loss: 1.0832 - accuracy: 0.6326 - val_loss: 1.1470 - val_accuracy: 0.6130\n",
      "Epoch 6/25\n",
      "383/383 [==============================] - 12s 30ms/step - loss: 1.0141 - accuracy: 0.6502 - val_loss: 1.0867 - val_accuracy: 0.6250\n",
      "Epoch 7/25\n",
      "383/383 [==============================] - 12s 31ms/step - loss: 0.9587 - accuracy: 0.6664 - val_loss: 1.0279 - val_accuracy: 0.6500\n",
      "Epoch 8/25\n",
      "383/383 [==============================] - 12s 31ms/step - loss: 0.8964 - accuracy: 0.6853 - val_loss: 1.0580 - val_accuracy: 0.6360\n",
      "Epoch 9/25\n",
      "383/383 [==============================] - 11s 30ms/step - loss: 0.8491 - accuracy: 0.7010 - val_loss: 1.1124 - val_accuracy: 0.6540\n",
      "Epoch 10/25\n",
      "383/383 [==============================] - 11s 30ms/step - loss: 0.8227 - accuracy: 0.7062 - val_loss: 1.0112 - val_accuracy: 0.6690\n",
      "Epoch 11/25\n",
      "383/383 [==============================] - 11s 30ms/step - loss: 0.7729 - accuracy: 0.7204 - val_loss: 1.0617 - val_accuracy: 0.6540\n",
      "Epoch 12/25\n",
      "383/383 [==============================] - 11s 30ms/step - loss: 0.7335 - accuracy: 0.7357 - val_loss: 1.0995 - val_accuracy: 0.6540\n",
      "Epoch 13/25\n",
      "383/383 [==============================] - 11s 30ms/step - loss: 0.6867 - accuracy: 0.7481 - val_loss: 1.1052 - val_accuracy: 0.6640\n",
      "Epoch 14/25\n",
      "383/383 [==============================] - 11s 30ms/step - loss: 0.6721 - accuracy: 0.7495 - val_loss: 1.1693 - val_accuracy: 0.6420\n",
      "Epoch 15/25\n",
      "383/383 [==============================] - 11s 30ms/step - loss: 0.6235 - accuracy: 0.7634 - val_loss: 1.1978 - val_accuracy: 0.6540\n",
      "Epoch 16/25\n",
      "383/383 [==============================] - 12s 30ms/step - loss: 0.6263 - accuracy: 0.7641 - val_loss: 1.1504 - val_accuracy: 0.6560\n",
      "Epoch 17/25\n",
      "383/383 [==============================] - 11s 30ms/step - loss: 0.6088 - accuracy: 0.7662 - val_loss: 1.2508 - val_accuracy: 0.6500\n",
      "Epoch 18/25\n",
      "383/383 [==============================] - 11s 30ms/step - loss: 0.5936 - accuracy: 0.7717 - val_loss: 1.3591 - val_accuracy: 0.6640\n",
      "Epoch 19/25\n",
      "383/383 [==============================] - 12s 30ms/step - loss: 0.5787 - accuracy: 0.7750 - val_loss: 1.3102 - val_accuracy: 0.6430\n",
      "Epoch 20/25\n",
      "383/383 [==============================] - 12s 30ms/step - loss: 0.5895 - accuracy: 0.7716 - val_loss: 1.3405 - val_accuracy: 0.6290\n",
      "Epoch 21/25\n",
      "383/383 [==============================] - 12s 30ms/step - loss: 0.5898 - accuracy: 0.7693 - val_loss: 1.3309 - val_accuracy: 0.6570\n",
      "Epoch 22/25\n",
      "383/383 [==============================] - 12s 31ms/step - loss: 0.5568 - accuracy: 0.7784 - val_loss: 1.4088 - val_accuracy: 0.6460\n",
      "Epoch 23/25\n",
      "383/383 [==============================] - 14s 36ms/step - loss: 0.5455 - accuracy: 0.7833 - val_loss: 1.3845 - val_accuracy: 0.6550\n",
      "Epoch 24/25\n",
      "269/383 [====================>.........] - ETA: 50s - loss: 0.5476 - accuracy: 0.7803"
     ]
    }
   ],
   "source": [
    "spectral_cnn_model = spectralCNN(X_train.shape[1:])\n",
    "\n",
    "spectral_cnn_model.compile(optimizer='adam', loss='sparse_categorical_crossentropy', metrics=['accuracy'])\n",
    "\n",
    "\n",
    "history=spectral_cnn_model.fit(x=X_train, y=y_train,\n",
    "          batch_size=128,\n",
    "          epochs=25, \n",
    "          validation_data=(X_val, y_val)\n",
    "              )"
   ]
  },
  {
   "cell_type": "code",
   "execution_count": null,
   "id": "f5788e96",
   "metadata": {},
   "outputs": [],
   "source": [
    "import matplotlib.pyplot as plt \n",
    "plt.plot(history.history['loss'])\n",
    "plt.title('model loss')\n",
    "plt.ylabel('loss')\n",
    "plt.xlabel('epoch')\n",
    "plt.show()"
   ]
  },
  {
   "cell_type": "code",
   "execution_count": null,
   "id": "e79f9b86",
   "metadata": {},
   "outputs": [],
   "source": []
  }
 ],
 "metadata": {
  "kernelspec": {
   "display_name": "Python 3",
   "language": "python",
   "name": "python3"
  },
  "language_info": {
   "codemirror_mode": {
    "name": "ipython",
    "version": 3
   },
   "file_extension": ".py",
   "mimetype": "text/x-python",
   "name": "python",
   "nbconvert_exporter": "python",
   "pygments_lexer": "ipython3",
   "version": "3.6.9"
  }
 },
 "nbformat": 4,
 "nbformat_minor": 5
}
